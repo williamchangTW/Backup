{
 "metadata": {
  "language_info": {
   "codemirror_mode": {
    "name": "ipython",
    "version": 3
   },
   "file_extension": ".py",
   "mimetype": "text/x-python",
   "name": "python",
   "nbconvert_exporter": "python",
   "pygments_lexer": "ipython3",
   "version": "3.7.6-final"
  },
  "orig_nbformat": 2,
  "kernelspec": {
   "name": "Python 3.7.6 64-bit ('base': conda)",
   "display_name": "Python 3.7.6 64-bit ('base': conda)",
   "metadata": {
    "interpreter": {
     "hash": "872c75cc0e1ad9d253a6dbe834c65b1c7e1b059129b226968054e26fffa31186"
    }
   }
  }
 },
 "nbformat": 4,
 "nbformat_minor": 2,
 "cells": [
  {
   "cell_type": "code",
   "execution_count": 14,
   "metadata": {},
   "outputs": [],
   "source": [
    "import time\n",
    "import os\n",
    "import filecmp"
   ]
  },
  {
   "cell_type": "code",
   "execution_count": 8,
   "metadata": {},
   "outputs": [
    {
     "output_type": "execute_result",
     "data": {
      "text/plain": [
       "1602865413882607000"
      ]
     },
     "metadata": {},
     "execution_count": 8
    }
   ],
   "source": [
    "time.time_ns()"
   ]
  },
  {
   "cell_type": "code",
   "execution_count": 12,
   "metadata": {},
   "outputs": [],
   "source": [
    "with open(\"p.csv\", \"rb\") as df:\n",
    "    tmp1 = df.readline()\n",
    "    tmp2 = df.readline()\n",
    "    with open(\"test.txt\", \"wb\") as wf:\n",
    "        wf.write(tmp1)\n",
    "        wf.write(tmp2)"
   ]
  },
  {
   "cell_type": "code",
   "execution_count": 16,
   "metadata": {},
   "outputs": [
    {
     "output_type": "stream",
     "name": "stdout",
     "text": [
      "Result is True\nTime is 241000\n"
     ]
    }
   ],
   "source": [
    "t1 = time.time_ns()\n",
    "res = filecmp.cmp(\"p.csv\", \"d.csv\")\n",
    "t2 = time.time_ns()\n",
    "print(\"Result is {}\".format(str(res)))\n",
    "print(\"Time is {}\".format(t2 - t1))"
   ]
  },
  {
   "cell_type": "code",
   "execution_count": 17,
   "metadata": {},
   "outputs": [
    {
     "output_type": "stream",
     "name": "stdout",
     "text": [
      "Result is True\nTime is 2947000\n"
     ]
    }
   ],
   "source": [
    "t1 = time.time_ns()\n",
    "with open(\"p.csv\", \"rb\") as df1:\n",
    "    tmp1 = df1.readline()\n",
    "    tmp2 = df1.readline()\n",
    "    with open(\"test.txt\", \"rb\") as df2:\n",
    "        tr1 = df2.readline()\n",
    "        tr2 = df2.readline()\n",
    "        try:\n",
    "            tmp1 == tr1\n",
    "            tmp2 == tr2\n",
    "            print(\"Result is True\")\n",
    "        except:\n",
    "            print(\"Two string is not the same!\")\n",
    "t2 = time.time_ns()\n",
    "print(\"Time is {}\".format(t2 - t1))"
   ]
  },
  {
   "cell_type": "code",
   "execution_count": 18,
   "metadata": {},
   "outputs": [
    {
     "output_type": "stream",
     "name": "stdout",
     "text": [
      "\u001b[1m\u001b[36mckpt\u001b[m\u001b[m/                      load_model_with_weight.py\n\u001b[1m\u001b[36mcsv_loader\u001b[m\u001b[m/                model.py\ncustcb.py                  p.csv\ncustckpt.py                perf_file_read.ipynb\nd.csv                      test.txt\nload_model.py              \u001b[1m\u001b[36mtmp\u001b[m\u001b[m/\n"
     ]
    }
   ],
   "source": []
  },
  {
   "cell_type": "code",
   "execution_count": 2,
   "metadata": {},
   "outputs": [],
   "source": [
    "from csv_loader.dynamic_memory import CSVLoader"
   ]
  },
  {
   "cell_type": "code",
   "execution_count": 5,
   "metadata": {},
   "outputs": [
    {
     "output_type": "error",
     "ename": "TypeError",
     "evalue": "_get_file_size() missing 1 required positional argument: 'fd'",
     "traceback": [
      "\u001b[0;31m---------------------------------------------------------------------------\u001b[0m",
      "\u001b[0;31mTypeError\u001b[0m                                 Traceback (most recent call last)",
      "\u001b[0;32m<ipython-input-5-5586c113de99>\u001b[0m in \u001b[0;36m<module>\u001b[0;34m\u001b[0m\n\u001b[0;32m----> 1\u001b[0;31m \u001b[0mtmp\u001b[0m \u001b[0;34m=\u001b[0m \u001b[0mCSVLoader\u001b[0m\u001b[0;34m.\u001b[0m\u001b[0m_get_file_size\u001b[0m\u001b[0;34m(\u001b[0m\u001b[0;34m\"p.csv\"\u001b[0m\u001b[0;34m)\u001b[0m\u001b[0;34m\u001b[0m\u001b[0;34m\u001b[0m\u001b[0m\n\u001b[0m",
      "\u001b[0;31mTypeError\u001b[0m: _get_file_size() missing 1 required positional argument: 'fd'"
     ]
    }
   ],
   "source": [
    "tmp = CSVLoader._get_file_size(\"p.csv\")"
   ]
  },
  {
   "cell_type": "code",
   "execution_count": 3,
   "metadata": {},
   "outputs": [
    {
     "output_type": "error",
     "ename": "NameError",
     "evalue": "name 'tmp' is not defined",
     "traceback": [
      "\u001b[0;31m---------------------------------------------------------------------------\u001b[0m",
      "\u001b[0;31mNameError\u001b[0m                                 Traceback (most recent call last)",
      "\u001b[0;32m<ipython-input-3-52a35c59c6f2>\u001b[0m in \u001b[0;36m<module>\u001b[0;34m\u001b[0m\n\u001b[0;32m----> 1\u001b[0;31m \u001b[0mtmp\u001b[0m\u001b[0;34m\u001b[0m\u001b[0;34m\u001b[0m\u001b[0m\n\u001b[0m",
      "\u001b[0;31mNameError\u001b[0m: name 'tmp' is not defined"
     ]
    }
   ],
   "source": [
    "tmp"
   ]
  },
  {
   "cell_type": "code",
   "execution_count": 8,
   "metadata": {},
   "outputs": [],
   "source": [
    "from csv_loader.numpy_converter import *\n"
   ]
  },
  {
   "cell_type": "code",
   "execution_count": 11,
   "metadata": {},
   "outputs": [],
   "source": [
    "t = SizedReader(\"p.csv\").__next__"
   ]
  },
  {
   "cell_type": "code",
   "execution_count": 10,
   "metadata": {},
   "outputs": [
    {
     "output_type": "stream",
     "name": "stdout",
     "text": [
      "Animal eat method is called.\n"
     ]
    }
   ],
   "source": [
    "# 動物類別\n",
    "class Animal:\n",
    "    def eat(self):\n",
    "        print(\"Animal eat method is called.\")\n",
    "# 鳥類類別\n",
    "class Bird:\n",
    "    def walk(self):\n",
    "        print(\"Bird walk method is called.\")\n",
    "# 鴨子類別\n",
    "class Duck(Animal, Bird):\n",
    "    pass\n",
    "duck = Duck()\n",
    "duck.eat()"
   ]
  },
  {
   "cell_type": "code",
   "execution_count": 4,
   "metadata": {},
   "outputs": [
    {
     "output_type": "error",
     "ename": "TypeError",
     "evalue": "'<' not supported between instances of 'dict' and 'str'",
     "traceback": [
      "\u001b[1;31m---------------------------------------------------------------------------\u001b[0m",
      "\u001b[1;31mTypeError\u001b[0m                                 Traceback (most recent call last)",
      "\u001b[1;32m<ipython-input-4-c976b9205d7c>\u001b[0m in \u001b[0;36m<module>\u001b[1;34m\u001b[0m\n\u001b[0;32m     57\u001b[0m         \u001b[1;32mif\u001b[0m \u001b[0mlib\u001b[0m\u001b[1;33m[\u001b[0m\u001b[0mi\u001b[0m\u001b[1;33m]\u001b[0m \u001b[1;32mnot\u001b[0m \u001b[1;32min\u001b[0m \u001b[0mpkg_dic\u001b[0m\u001b[1;33m.\u001b[0m\u001b[0mkeys\u001b[0m\u001b[1;33m(\u001b[0m\u001b[1;33m)\u001b[0m\u001b[1;33m:\u001b[0m\u001b[1;33m\u001b[0m\u001b[1;33m\u001b[0m\u001b[0m\n\u001b[0;32m     58\u001b[0m             \u001b[0menvironment_check\u001b[0m\u001b[1;33m(\u001b[0m\u001b[0mpackage\u001b[0m\u001b[1;33m=\u001b[0m \u001b[0mlib\u001b[0m\u001b[1;33m[\u001b[0m\u001b[0mi\u001b[0m\u001b[1;33m]\u001b[0m\u001b[1;33m,\u001b[0m \u001b[0mversion\u001b[0m \u001b[1;33m=\u001b[0m \u001b[0mver\u001b[0m\u001b[1;33m[\u001b[0m\u001b[0mi\u001b[0m\u001b[1;33m]\u001b[0m\u001b[1;33m)\u001b[0m\u001b[1;33m.\u001b[0m\u001b[0minstall\u001b[0m\u001b[1;33m(\u001b[0m\u001b[1;33m)\u001b[0m\u001b[1;33m\u001b[0m\u001b[1;33m\u001b[0m\u001b[0m\n\u001b[1;32m---> 59\u001b[1;33m         \u001b[1;32melif\u001b[0m \u001b[0menvironment_check\u001b[0m\u001b[1;33m(\u001b[0m\u001b[0mpackage\u001b[0m\u001b[1;33m=\u001b[0m \u001b[0mlib\u001b[0m\u001b[1;33m[\u001b[0m\u001b[0mi\u001b[0m\u001b[1;33m]\u001b[0m\u001b[1;33m,\u001b[0m \u001b[0mversion\u001b[0m \u001b[1;33m=\u001b[0m \u001b[0mver\u001b[0m\u001b[1;33m[\u001b[0m\u001b[0mi\u001b[0m\u001b[1;33m]\u001b[0m\u001b[1;33m)\u001b[0m\u001b[1;33m.\u001b[0m\u001b[0mpackages\u001b[0m\u001b[1;33m(\u001b[0m\u001b[1;33m)\u001b[0m \u001b[1;33m<\u001b[0m \u001b[0mver\u001b[0m\u001b[1;33m[\u001b[0m\u001b[0mi\u001b[0m\u001b[1;33m]\u001b[0m\u001b[1;33m:\u001b[0m\u001b[1;33m\u001b[0m\u001b[1;33m\u001b[0m\u001b[0m\n\u001b[0m\u001b[0;32m     60\u001b[0m             \u001b[0menvironment_check\u001b[0m\u001b[1;33m(\u001b[0m\u001b[0mpackage\u001b[0m\u001b[1;33m=\u001b[0m \u001b[0mlib\u001b[0m\u001b[1;33m[\u001b[0m\u001b[0mi\u001b[0m\u001b[1;33m]\u001b[0m\u001b[1;33m,\u001b[0m \u001b[0mversion\u001b[0m \u001b[1;33m=\u001b[0m \u001b[0mver\u001b[0m\u001b[1;33m[\u001b[0m\u001b[0mi\u001b[0m\u001b[1;33m]\u001b[0m\u001b[1;33m)\u001b[0m\u001b[1;33m.\u001b[0m\u001b[0mupgrade\u001b[0m\u001b[1;33m(\u001b[0m\u001b[1;33m)\u001b[0m\u001b[1;33m\u001b[0m\u001b[1;33m\u001b[0m\u001b[0m\n\u001b[0;32m     61\u001b[0m         \u001b[1;32melif\u001b[0m \u001b[0menvironment_check\u001b[0m\u001b[1;33m(\u001b[0m\u001b[0mpackage\u001b[0m\u001b[1;33m=\u001b[0m \u001b[0mlib\u001b[0m\u001b[1;33m[\u001b[0m\u001b[0mi\u001b[0m\u001b[1;33m]\u001b[0m\u001b[1;33m,\u001b[0m \u001b[0mversion\u001b[0m \u001b[1;33m=\u001b[0m \u001b[0mver\u001b[0m\u001b[1;33m[\u001b[0m\u001b[0mi\u001b[0m\u001b[1;33m]\u001b[0m\u001b[1;33m)\u001b[0m\u001b[1;33m.\u001b[0m\u001b[0mpackages\u001b[0m\u001b[1;33m(\u001b[0m\u001b[1;33m)\u001b[0m \u001b[1;33m>\u001b[0m \u001b[0mver\u001b[0m\u001b[1;33m[\u001b[0m\u001b[0mi\u001b[0m\u001b[1;33m]\u001b[0m\u001b[1;33m:\u001b[0m\u001b[1;33m\u001b[0m\u001b[1;33m\u001b[0m\u001b[0m\n",
      "\u001b[1;31mTypeError\u001b[0m: '<' not supported between instances of 'dict' and 'str'"
     ]
    }
   ],
   "source": [
    "# build file paths if necessary\n",
    "import os, sys, subprocess\n",
    "# install every necessary packet\n",
    "# TODO\n",
    "# Data File that include every necessary\n",
    "def path_check():\n",
    "    if os.path.exists(\"data\") == False:\n",
    "        os.popen(\"mkdir data\")\n",
    "    # Model file must include in this file\n",
    "    if os.path.exists(\"model\") == False:\n",
    "        os.popen(\"mkdir model\")\n",
    "    # Store template data when something error ocuured(i,e. log)\n",
    "    if os.path.exists(\"tmp\") == False:\n",
    "        os.popen(\"mkdir tmp\")\n",
    "    # checkpoint\n",
    "    if os.path.exists(\"ckpt\") == False:\n",
    "        os.popen(\"mkdir ckpt\")\n",
    "    # training middle result files\n",
    "    if os.path.exists(\"ckpt/training_A/\") == False:\n",
    "        os.popen(\"mkdir ckpt/training_A/\")\n",
    "    if os.path.exists(\"ckpt/training_B/\") == False:\n",
    "        os.popen(\"mkdir ckpt/training_B/\")\n",
    "    # correct files\n",
    "    if os.path.exists(\"data/cor\") == False:\n",
    "        os.popen(\"mkdir data/cor\")\n",
    "    if os.path.exists(\"model/cor\") == False:\n",
    "        os.popen(\"mkdir model/cor\")\n",
    "    # debug files\n",
    "    if os.path.exists(\"log\") == False:\n",
    "        os.popen(\"mkdir log\")\n",
    "\n",
    "# check packages version\n",
    "class environment_check:\n",
    "    def __init__(self, \n",
    "                 package = None,\n",
    "                 version = None):\n",
    "        self = self\n",
    "        self.package = package\n",
    "        self.version = version\n",
    "    def packages(self):\n",
    "        return dict(package.split('==') for package in subprocess.check_output([sys.executable, '-m', 'pip', 'freeze']).decode().split())\n",
    "    def install(self): \n",
    "        subprocess.call([sys.executable, '-m', 'pip', 'install', self.package])\n",
    "    def upgrade(self): \n",
    "        subprocess.call([sys.executable, '-m', 'pip', 'install', self.package, '==', self.version, '—force-reinstall'])\n",
    "    def downgrade(self): \n",
    "        subprocess.call([sys.executable, '-m', 'pip', 'install', self.package, '==', self.version, '—force-reinstall'])\n",
    "\n",
    "\n",
    "\n",
    "if __name__ == \"__main__\":\n",
    "    # lib check \n",
    "    pkg_dic =  environment_check(package = lib[i], version = ver[i]).packages()\n",
    "    lib = (\"numpy\", \"psutil\", \"tensorflow\", \"Keras\", \"h5py\")\n",
    "    ver = [\"1.17.0\", \"5.6.3\", \"1.14.0\", \"2.3.0\", \"2.9.0\"]\n",
    "    for i in range(0, 4):\n",
    "        if lib[i] not in environment_check(package = lib[i], version = ver[i]).packages().keys():\n",
    "            environment_check(package= lib[i], version = ver[i]).install()\n",
    "        elif environment_check(package= lib[i], version = ver[i]).packages() < ver[i]:\n",
    "            environment_check(package= lib[i], version = ver[i]).upgrade()\n",
    "        elif environment_check(package= lib[i], version = ver[i]).packages() > ver[i]:\n",
    "            environment_check(package= lib[i], version = ver[i]).downgrade()\n",
    "    # path check\n",
    "    path_check()"
   ]
  },
  {
   "cell_type": "code",
   "execution_count": 13,
   "metadata": {},
   "outputs": [],
   "source": [
    "class environment_check:    \n",
    "    def __init__(self, \n",
    "                 package = None,\n",
    "                 version = None):\n",
    "        self = self\n",
    "        self.package = package\n",
    "        self.version = version\n",
    "    def packages(self):\n",
    "        return dict(self.package.split('==') for self.package in subprocess.check_output([sys.executable, '-m', 'pip', 'freeze']).decode().split())\n",
    "    def install(self): \n",
    "        subprocess.call([sys.executable, '-m', 'pip', 'install', self.package])\n",
    "    def upgrade(self): \n",
    "        subprocess.call([sys.executable, '-m', 'pip', 'install', self.package, '==', self.version, '—force-reinstall'])\n",
    "    def downgrade(self): \n",
    "        subprocess.call([sys.executable, '-m', 'pip', 'install', self.package, '==', self.version, '—force-reinstall'])\n"
   ]
  },
  {
   "source": [
    "environment_check(package = lib[1], version = ver[1]).packages().values()"
   ],
   "cell_type": "code",
   "metadata": {},
   "execution_count": null,
   "outputs": []
  },
  {
   "cell_type": "code",
   "execution_count": 10,
   "metadata": {},
   "outputs": [
    {
     "output_type": "execute_result",
     "data": {
      "text/plain": [
       "'psutil'"
      ]
     },
     "metadata": {},
     "execution_count": 10
    }
   ],
   "source": [
    "lib[1]"
   ]
  },
  {
   "cell_type": "code",
   "execution_count": 18,
   "metadata": {},
   "outputs": [
    {
     "output_type": "error",
     "ename": "TypeError",
     "evalue": "keys() takes no arguments (1 given)",
     "traceback": [
      "\u001b[1;31m---------------------------------------------------------------------------\u001b[0m",
      "\u001b[1;31mTypeError\u001b[0m                                 Traceback (most recent call last)",
      "\u001b[1;32m<ipython-input-18-79dda8b53562>\u001b[0m in \u001b[0;36m<module>\u001b[1;34m\u001b[0m\n\u001b[1;32m----> 1\u001b[1;33m \u001b[0menvironment_check\u001b[0m\u001b[1;33m(\u001b[0m\u001b[0mpackage\u001b[0m \u001b[1;33m=\u001b[0m \u001b[0mlib\u001b[0m\u001b[1;33m[\u001b[0m\u001b[1;36m1\u001b[0m\u001b[1;33m]\u001b[0m\u001b[1;33m,\u001b[0m \u001b[0mversion\u001b[0m \u001b[1;33m=\u001b[0m \u001b[0mver\u001b[0m\u001b[1;33m[\u001b[0m\u001b[1;36m1\u001b[0m\u001b[1;33m]\u001b[0m\u001b[1;33m)\u001b[0m\u001b[1;33m.\u001b[0m\u001b[0mpackages\u001b[0m\u001b[1;33m(\u001b[0m\u001b[1;33m)\u001b[0m\u001b[1;33m.\u001b[0m\u001b[0mkeys\u001b[0m\u001b[1;33m(\u001b[0m\u001b[1;34m\"psutil\"\u001b[0m\u001b[1;33m)\u001b[0m\u001b[1;33m\u001b[0m\u001b[1;33m\u001b[0m\u001b[0m\n\u001b[0m",
      "\u001b[1;31mTypeError\u001b[0m: keys() takes no arguments (1 given)"
     ]
    }
   ],
   "source": [
    "environment_check(package = lib[1], version = ver[1]).packages().keys()"
   ]
  },
  {
   "cell_type": "code",
   "execution_count": 17,
   "metadata": {},
   "outputs": [
    {
     "output_type": "execute_result",
     "data": {
      "text/plain": [
       "True"
      ]
     },
     "metadata": {},
     "execution_count": 17
    }
   ],
   "source": [
    "\"psutil\" in environment_check(package = lib[1], version = ver[1]).packages().keys()"
   ]
  },
  {
   "cell_type": "code",
   "execution_count": 28,
   "metadata": {},
   "outputs": [],
   "source": [
    "class test:\n",
    "    def list(num, ber):\n",
    "        t = num + ber\n",
    "        print(\"Ans:{}\".format(t))"
   ]
  },
  {
   "cell_type": "code",
   "execution_count": 29,
   "metadata": {},
   "outputs": [
    {
     "output_type": "stream",
     "name": "stdout",
     "text": [
      "Ans:3\n"
     ]
    }
   ],
   "source": [
    "test.list(1, 2)"
   ]
  },
  {
   "cell_type": "code",
   "execution_count": 24,
   "metadata": {},
   "outputs": [
    {
     "output_type": "stream",
     "name": "stdout",
     "text": [
      "Ans:3\n"
     ]
    }
   ],
   "source": [
    "k.list(2)"
   ]
  },
  {
   "cell_type": "code",
   "execution_count": 25,
   "metadata": {},
   "outputs": [
    {
     "output_type": "stream",
     "name": "stdout",
     "text": [
      "Ans:3\n"
     ]
    }
   ],
   "source": [
    "test(1).list(2)"
   ]
  },
  {
   "cell_type": "code",
   "execution_count": null,
   "metadata": {},
   "outputs": [],
   "source": []
  }
 ]
}